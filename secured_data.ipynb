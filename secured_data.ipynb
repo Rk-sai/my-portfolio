{
 "cells": [
  {
   "cell_type": "code",
   "execution_count": null,
   "metadata": {},
   "outputs": [],
   "source": [
    "from tkinter import *\n",
    "import string\n",
    "win=Tk()\n",
    "win.title('SECURE YOUR DATA')\n",
    "\n",
    "L1=Label(win,text='Enter your data')\n",
    "L1.grid(row=0,column=0)\n",
    "\n",
    "E1=Entry(win,bd=5)\n",
    "E1.grid(row=0,column=1)\n",
    "s1=string.punctuation\n",
    "s2=string.ascii_lowercase\n",
    "s3=string.ascii_uppercase\n",
    "s4=string.digits\n",
    "s=s1+s2+s3+s4\n",
    "#print(len(s))\n",
    "key=4\n",
    "newmsg=''\n",
    "E2=Entry(win,bd=5)\n",
    "E2.grid(row=0,column=2)\n",
    "\n",
    "def submit():\n",
    "    #messagebox.showinfo('SECURED',E1.get()+'your data')\n",
    "    global newmsg\n",
    "    for char in E1.get():\n",
    "        position=s.find(char)\n",
    "        newposition=(position+key)%94\n",
    "        newchar=s[newposition]\n",
    "        #print('new character is',newchar)\n",
    "        newmsg+=newchar\n",
    "    #print(newmsg)\n",
    "    E2.insert(0,newmsg)\n",
    "    with open('new_secure.txt','a')as f:\n",
    "        f.write(f'{newmsg}')\n",
    "redbutton=Button(win,text='secure',fg='Blue',command=submit)\n",
    "redbutton.grid(row=1,column=1)\n",
    "\n",
    "win.mainloop()"
   ]
  },
  {
   "cell_type": "code",
   "execution_count": null,
   "metadata": {},
   "outputs": [],
   "source": []
  }
 ],
 "metadata": {
  "kernelspec": {
   "display_name": "Python 3",
   "language": "python",
   "name": "python3"
  },
  "language_info": {
   "codemirror_mode": {
    "name": "ipython",
    "version": 3
   },
   "file_extension": ".py",
   "mimetype": "text/x-python",
   "name": "python",
   "nbconvert_exporter": "python",
   "pygments_lexer": "ipython3",
   "version": "3.7.4"
  }
 },
 "nbformat": 4,
 "nbformat_minor": 2
}
